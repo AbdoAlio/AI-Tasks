{
  "nbformat": 4,
  "nbformat_minor": 0,
  "metadata": {
    "colab": {
      "provenance": []
    },
    "kernelspec": {
      "name": "python3",
      "display_name": "Python 3"
    },
    "language_info": {
      "name": "python"
    }
  },
  "cells": [
    {
      "cell_type": "code",
      "execution_count": 62,
      "metadata": {
        "colab": {
          "base_uri": "https://localhost:8080/"
        },
        "id": "rY7w6rUhuouO",
        "outputId": "0a98946e-94e0-4328-ec90-6f0d576a5a45"
      },
      "outputs": [
        {
          "output_type": "stream",
          "name": "stdout",
          "text": [
            "Enter a num to check absolute value: 15\n",
            "ABS:  15\n"
          ]
        }
      ],
      "source": [
        "  #1- WAP to enter a number from user and print its absolute value.*\n",
        "x = int(input(\"Enter a num to check absolute value: \"))\n",
        "if(x >= 0):\n",
        "  print(\"ABS: \",x)\n",
        "else:\n",
        "  print(\"ABS: \",(-1*x))\n"
      ]
    },
    {
      "cell_type": "code",
      "source": [
        "#2- WAP to enter a year from user and check if it is leap year of not.\n",
        "L = int(input(\"check year: \"))\n",
        "\n",
        "if (L % 4 == 0):\n",
        "    print(L, \"is a leap year\")\n",
        "else:\n",
        "    print(L, \"is not a leap year\")"
      ],
      "metadata": {
        "colab": {
          "base_uri": "https://localhost:8080/"
        },
        "id": "8lYdKfQGqv6V",
        "outputId": "96384d3b-fd53-427a-8cd8-70a6c58f198b"
      },
      "execution_count": 60,
      "outputs": [
        {
          "output_type": "stream",
          "name": "stdout",
          "text": [
            "check year: 1601\n",
            "1601 is not a leap year\n"
          ]
        }
      ]
    },
    {
      "cell_type": "code",
      "source": [
        "#3- WAP to enter the age of 3 person and print oldest and yougest among them.\n",
        "x=int(input(\"enter first person age: \"))\n",
        "y=int(input(\"enter second person age: \"))\n",
        "z=int(input(\"enter third person age: \"))\n",
        "if(x > y):\n",
        "  if(x > z):\n",
        "    print(\"X is the oldest\",x)\n",
        "  else:\n",
        "    print(\"Z is the oldest\",z)\n",
        "elif(y>x):\n",
        "  if(y>z):\n",
        "    print(\"Y is the oldest\",y)\n",
        "  else:\n",
        "    print(\"Z is the oldest\",z)\n",
        "\n",
        "\n",
        "if(x < y):\n",
        "  if(x < z):\n",
        "    print(\"X is the youngest\",x)\n",
        "  else:\n",
        "    print(\"Z is the youngest\",z)\n",
        "elif(y < x):\n",
        "  if(y < z):\n",
        "    print(\"Y is the youngest\",y)\n",
        "  else:\n",
        "    print(\"Z is the youngest\",z)\n"
      ],
      "metadata": {
        "colab": {
          "base_uri": "https://localhost:8080/"
        },
        "id": "vxGnwQRkrxaL",
        "outputId": "7523289f-59f6-469d-a6c0-b80bf50e8db1"
      },
      "execution_count": 41,
      "outputs": [
        {
          "output_type": "stream",
          "name": "stdout",
          "text": [
            "enter first person age: 20\n",
            "enter second person age: 10\n",
            "enter third person age: 30\n",
            "Z is the oldest 30\n",
            "Y is the youngest 10\n"
          ]
        }
      ]
    },
    {
      "cell_type": "code",
      "source": [
        "# Write a program that asks the user to enter a series of numbers. The program should ask for numbers until the user enters a negative number. Once the user enters a negative number, the program should stop and print the sum of all the positive numbers entered\n",
        "print(\"enter postive num to count & negative to STOP\")\n",
        "sum = 0\n",
        "while True:\n",
        "    number = int(input(\"enter num to sum: \"))\n",
        "    if number < 0:\n",
        "        break\n",
        "    sum += number\n",
        "print(\"total of postive num is\", sum)"
      ],
      "metadata": {
        "colab": {
          "base_uri": "https://localhost:8080/"
        },
        "id": "SB7nj1j_uJg_",
        "outputId": "febbad2c-94f9-4c80-85ff-68a5fe73aaa1"
      },
      "execution_count": 58,
      "outputs": [
        {
          "output_type": "stream",
          "name": "stdout",
          "text": [
            "enter postive num to count & negative to STOP\n",
            "enter num to sum: 10\n",
            "enter num to sum: 10\n",
            "enter num to sum: 20\n",
            "enter num to sum: -1\n",
            "total of postive num is 40\n"
          ]
        }
      ]
    },
    {
      "cell_type": "code",
      "source": [
        "print(\"please enter your name and age\")\n",
        "name=input(\"name: \")\n",
        "age=int(input(\"age: \"))\n",
        "if(age>=18):\n",
        "  print(\"you are eligible to vote\")\n",
        "else:\n",
        "    print(\"you are not eligible to vote\")"
      ],
      "metadata": {
        "colab": {
          "base_uri": "https://localhost:8080/"
        },
        "id": "G2HVnWEOzDIF",
        "outputId": "433620b4-1855-44e4-8595-766634be50ed"
      },
      "execution_count": 55,
      "outputs": [
        {
          "output_type": "stream",
          "name": "stdout",
          "text": [
            "please enter your name and age\n",
            "name: Mohamed\n",
            "age: 17\n",
            "you are not eligable to vote\n"
          ]
        }
      ]
    },
    {
      "cell_type": "code",
      "source": [],
      "metadata": {
        "id": "FBYuW61X5bQc"
      },
      "execution_count": null,
      "outputs": []
    }
  ]
}