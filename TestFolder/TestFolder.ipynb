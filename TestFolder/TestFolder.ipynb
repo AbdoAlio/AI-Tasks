{
 "cells": [
  {
   "cell_type": "code",
   "execution_count": 5,
   "id": "eca60a2a-1378-42f7-abdc-49c860a42cbd",
   "metadata": {},
   "outputs": [
    {
     "name": "stdout",
     "output_type": "stream",
     "text": [
      "hi\n",
      "210\n"
     ]
    },
    {
     "name": "stdin",
     "output_type": "stream",
     "text": [
      "enter any num:  10\n"
     ]
    },
    {
     "name": "stdout",
     "output_type": "stream",
     "text": [
      "num enterd is:  10\n"
     ]
    }
   ],
   "source": [
    "print(\"hi\")\n",
    "print(10+10*20)\n",
    "x = int(input(\"enter any num: \"))\n",
    "print(\"num enterd is: \",x)"
   ]
  },
  {
   "cell_type": "code",
   "execution_count": null,
   "id": "d938116a-2803-4a6a-ba37-e4d2812cf839",
   "metadata": {},
   "outputs": [],
   "source": []
  }
 ],
 "metadata": {
  "kernelspec": {
   "display_name": "Python [conda env:base] *",
   "language": "python",
   "name": "conda-base-py"
  },
  "language_info": {
   "codemirror_mode": {
    "name": "ipython",
    "version": 3
   },
   "file_extension": ".py",
   "mimetype": "text/x-python",
   "name": "python",
   "nbconvert_exporter": "python",
   "pygments_lexer": "ipython3",
   "version": "3.12.7"
  }
 },
 "nbformat": 4,
 "nbformat_minor": 5
}
